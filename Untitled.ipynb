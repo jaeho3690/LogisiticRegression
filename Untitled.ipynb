{
 "cells": [
  {
   "cell_type": "code",
   "execution_count": 239,
   "metadata": {},
   "outputs": [],
   "source": [
    "import pandas as pd\n",
    "import numpy as np\n",
    "from numpy.linalg import inv\n",
    "import os\n",
    "from sklearn.model_selection import train_test_split\n",
    "from sklearn.metrics import log_loss"
   ]
  },
  {
   "cell_type": "code",
   "execution_count": 225,
   "metadata": {},
   "outputs": [],
   "source": [
    "raw_df = pd.read_csv('data/iris.csv')"
   ]
  },
  {
   "cell_type": "code",
   "execution_count": 226,
   "metadata": {},
   "outputs": [],
   "source": [
    "iris_df = raw_df[raw_df['variety']!='Setosa']"
   ]
  },
  {
   "cell_type": "code",
   "execution_count": 227,
   "metadata": {},
   "outputs": [],
   "source": [
    "X = iris_df.iloc[:,:-1]\n",
    "y = iris_df.variety\n",
    "y= y.map({'Versicolor':1,'Virginica':0})"
   ]
  },
  {
   "cell_type": "code",
   "execution_count": 228,
   "metadata": {},
   "outputs": [],
   "source": [
    "train_X,test_X,train_y,test_y = train_test_split(X,y,test_size=0.2,shuffle=True)"
   ]
  },
  {
   "cell_type": "code",
   "execution_count": 229,
   "metadata": {},
   "outputs": [
    {
     "data": {
      "text/plain": [
       "(80, 4)"
      ]
     },
     "execution_count": 229,
     "metadata": {},
     "output_type": "execute_result"
    }
   ],
   "source": [
    "train_X.shape"
   ]
  },
  {
   "cell_type": "code",
   "execution_count": 267,
   "metadata": {},
   "outputs": [],
   "source": [
    "class LogisticRegression:\n",
    "    def __init__(self):\n",
    "        pass\n",
    "    def fit(self,X,y):\n",
    "        self.train_X = self.transform_X(X)\n",
    "        self.train_y = self.transform_y(y)\n",
    "        self.N,self.D = self.train_X.shape\n",
    "        self.optimize()\n",
    "        \n",
    "    def optimize(self,epoch=10):\n",
    "        betas = np.zeros((self.D,1))\n",
    "        for e in range(epoch):\n",
    "            # I will follow Bishop notation\n",
    "            predict_y = self.sigmoid(np.matmul(self.train_X,betas))\n",
    "            R = np.matmul(predict_y,(1-predict_y).T)+0.01* np.eye(self.N)\n",
    "            z = np.matmul(self.train_X,betas) - np.matmul(inv(R),(predict_y-self.train_y))\n",
    "            first_term = inv(np.matmul(np.matmul(self.train_X.T,R),self.train_X))\n",
    "            second_term = np.matmul(np.matmul(self.train_X.T,R),z)\n",
    "            betas = np.matmul(first_term,second_term)   \n",
    "            predict_y = self.sigmoid(np.matmul(self.train_X,betas))\n",
    "            self.cross_entropy_loss(self.train_y,predict_y)\n",
    "        self.coef = betas[1:]\n",
    "        self.intercept = betas[0]\n",
    "    \n",
    "    def predict(self,test_X,clip_val=1e-3):\n",
    "        test_X = np.array(test_X)\n",
    "        pred_y= self.sigmoid(np.matmul(test_X,self.coef)+self.intercept)\n",
    "        print()\n",
    "        return np.clip(pred_y,clip_val,1-clip_val)\n",
    "        \n",
    "    def transform_X(self,X):\n",
    "        X = np.array(X)\n",
    "        X = np.insert(X,0,np.ones((X.shape[0])),axis=1)\n",
    "        return X\n",
    "    def transform_y(self,y):\n",
    "        y = np.array(y)\n",
    "        y = y.reshape((y.shape[0],-1))\n",
    "        return y\n",
    "    def cross_entropy_loss(self,y_true,y_pred,clip_val=1e-10):\n",
    "        y_pred = np.clip(y_pred,clip_val,1-clip_val)\n",
    "        loss = np.multiply(y_true,np.log(y_pred))\n",
    "        total_loss = -np.sum(loss,axis=0)\n",
    "        #print(total_loss)\n",
    "        \n",
    "    def sigmoid(self,x):\n",
    "        return 1 / (1 +np.exp(-x))\n",
    "        "
   ]
  },
  {
   "cell_type": "code",
   "execution_count": 268,
   "metadata": {},
   "outputs": [],
   "source": [
    "LR_model = LogisticRegression()\n",
    "LR_model.fit(train_X,train_y)"
   ]
  },
  {
   "cell_type": "code",
   "execution_count": 269,
   "metadata": {},
   "outputs": [
    {
     "name": "stdout",
     "output_type": "stream",
     "text": [
      "\n"
     ]
    }
   ],
   "source": [
    "pred_y = LR_model.predict(test_X)"
   ]
  },
  {
   "cell_type": "code",
   "execution_count": 270,
   "metadata": {},
   "outputs": [
    {
     "data": {
      "text/plain": [
       "array([[0.001    ],\n",
       "       [0.001    ],\n",
       "       [0.001    ],\n",
       "       [0.001    ],\n",
       "       [0.001    ],\n",
       "       [0.001    ],\n",
       "       [0.001    ],\n",
       "       [0.001    ],\n",
       "       [0.001    ],\n",
       "       [0.0014111],\n",
       "       [0.999    ],\n",
       "       [0.001    ],\n",
       "       [0.999    ],\n",
       "       [0.001    ],\n",
       "       [0.001    ],\n",
       "       [0.001    ],\n",
       "       [0.001    ],\n",
       "       [0.001    ],\n",
       "       [0.001    ],\n",
       "       [0.999    ]])"
      ]
     },
     "execution_count": 270,
     "metadata": {},
     "output_type": "execute_result"
    }
   ],
   "source": [
    "pred_y"
   ]
  },
  {
   "cell_type": "code",
   "execution_count": 271,
   "metadata": {},
   "outputs": [
    {
     "data": {
      "text/plain": [
       "2.7464841080963582"
      ]
     },
     "execution_count": 271,
     "metadata": {},
     "output_type": "execute_result"
    }
   ],
   "source": [
    "log_loss(test_y,pred_y)"
   ]
  },
  {
   "cell_type": "code",
   "execution_count": 272,
   "metadata": {},
   "outputs": [
    {
     "data": {
      "text/plain": [
       "142    0\n",
       "94     1\n",
       "140    0\n",
       "111    0\n",
       "52     1\n",
       "113    0\n",
       "108    0\n",
       "106    0\n",
       "148    0\n",
       "95     1\n",
       "98     1\n",
       "68     1\n",
       "64     1\n",
       "80     1\n",
       "69     1\n",
       "136    0\n",
       "62     1\n",
       "103    0\n",
       "58     1\n",
       "57     1\n",
       "Name: variety, dtype: int64"
      ]
     },
     "execution_count": 272,
     "metadata": {},
     "output_type": "execute_result"
    }
   ],
   "source": [
    "test_y"
   ]
  },
  {
   "cell_type": "code",
   "execution_count": 234,
   "metadata": {},
   "outputs": [
    {
     "data": {
      "text/plain": [
       "142    0\n",
       "94     1\n",
       "140    0\n",
       "111    0\n",
       "52     1\n",
       "113    0\n",
       "108    0\n",
       "106    0\n",
       "148    0\n",
       "95     1\n",
       "98     1\n",
       "68     1\n",
       "64     1\n",
       "80     1\n",
       "69     1\n",
       "136    0\n",
       "62     1\n",
       "103    0\n",
       "58     1\n",
       "57     1\n",
       "Name: variety, dtype: int64"
      ]
     },
     "execution_count": 234,
     "metadata": {},
     "output_type": "execute_result"
    }
   ],
   "source": [
    "test_y"
   ]
  },
  {
   "cell_type": "code",
   "execution_count": 153,
   "metadata": {},
   "outputs": [],
   "source": [
    "test_y = np.array(y)"
   ]
  },
  {
   "cell_type": "code",
   "execution_count": 154,
   "metadata": {},
   "outputs": [
    {
     "data": {
      "text/plain": [
       "(100,)"
      ]
     },
     "execution_count": 154,
     "metadata": {},
     "output_type": "execute_result"
    }
   ],
   "source": [
    "test_y.shape"
   ]
  },
  {
   "cell_type": "code",
   "execution_count": 155,
   "metadata": {},
   "outputs": [
    {
     "name": "stdout",
     "output_type": "stream",
     "text": [
      "50\n"
     ]
    }
   ],
   "source": [
    "print(np.matmul(test_y,test_y.T))"
   ]
  },
  {
   "cell_type": "code",
   "execution_count": 156,
   "metadata": {},
   "outputs": [
    {
     "data": {
      "text/plain": [
       "(100,)"
      ]
     },
     "execution_count": 156,
     "metadata": {},
     "output_type": "execute_result"
    }
   ],
   "source": [
    "test_y.T.shape"
   ]
  },
  {
   "cell_type": "code",
   "execution_count": 157,
   "metadata": {},
   "outputs": [],
   "source": [
    "test_y= test_y.reshape((test_y.shape[0],-1))"
   ]
  },
  {
   "cell_type": "code",
   "execution_count": 159,
   "metadata": {},
   "outputs": [
    {
     "name": "stderr",
     "output_type": "stream",
     "text": [
      "/home/ubuntu/anaconda3/lib/python3.6/site-packages/ipykernel_launcher.py:1: RuntimeWarning: divide by zero encountered in log\n",
      "  \"\"\"Entry point for launching an IPython kernel.\n"
     ]
    },
    {
     "data": {
      "text/plain": [
       "array([[  0.],\n",
       "       [  0.],\n",
       "       [  0.],\n",
       "       [  0.],\n",
       "       [  0.],\n",
       "       [  0.],\n",
       "       [  0.],\n",
       "       [  0.],\n",
       "       [  0.],\n",
       "       [  0.],\n",
       "       [  0.],\n",
       "       [  0.],\n",
       "       [  0.],\n",
       "       [  0.],\n",
       "       [  0.],\n",
       "       [  0.],\n",
       "       [  0.],\n",
       "       [  0.],\n",
       "       [  0.],\n",
       "       [  0.],\n",
       "       [  0.],\n",
       "       [  0.],\n",
       "       [  0.],\n",
       "       [  0.],\n",
       "       [  0.],\n",
       "       [  0.],\n",
       "       [  0.],\n",
       "       [  0.],\n",
       "       [  0.],\n",
       "       [  0.],\n",
       "       [  0.],\n",
       "       [  0.],\n",
       "       [  0.],\n",
       "       [  0.],\n",
       "       [  0.],\n",
       "       [  0.],\n",
       "       [  0.],\n",
       "       [  0.],\n",
       "       [  0.],\n",
       "       [  0.],\n",
       "       [  0.],\n",
       "       [  0.],\n",
       "       [  0.],\n",
       "       [  0.],\n",
       "       [  0.],\n",
       "       [  0.],\n",
       "       [  0.],\n",
       "       [  0.],\n",
       "       [  0.],\n",
       "       [  0.],\n",
       "       [-inf],\n",
       "       [-inf],\n",
       "       [-inf],\n",
       "       [-inf],\n",
       "       [-inf],\n",
       "       [-inf],\n",
       "       [-inf],\n",
       "       [-inf],\n",
       "       [-inf],\n",
       "       [-inf],\n",
       "       [-inf],\n",
       "       [-inf],\n",
       "       [-inf],\n",
       "       [-inf],\n",
       "       [-inf],\n",
       "       [-inf],\n",
       "       [-inf],\n",
       "       [-inf],\n",
       "       [-inf],\n",
       "       [-inf],\n",
       "       [-inf],\n",
       "       [-inf],\n",
       "       [-inf],\n",
       "       [-inf],\n",
       "       [-inf],\n",
       "       [-inf],\n",
       "       [-inf],\n",
       "       [-inf],\n",
       "       [-inf],\n",
       "       [-inf],\n",
       "       [-inf],\n",
       "       [-inf],\n",
       "       [-inf],\n",
       "       [-inf],\n",
       "       [-inf],\n",
       "       [-inf],\n",
       "       [-inf],\n",
       "       [-inf],\n",
       "       [-inf],\n",
       "       [-inf],\n",
       "       [-inf],\n",
       "       [-inf],\n",
       "       [-inf],\n",
       "       [-inf],\n",
       "       [-inf],\n",
       "       [-inf],\n",
       "       [-inf],\n",
       "       [-inf],\n",
       "       [-inf],\n",
       "       [-inf]])"
      ]
     },
     "execution_count": 159,
     "metadata": {},
     "output_type": "execute_result"
    }
   ],
   "source": [
    "np.log(test_y)"
   ]
  },
  {
   "cell_type": "code",
   "execution_count": 60,
   "metadata": {},
   "outputs": [
    {
     "data": {
      "text/plain": [
       "(100, 100)"
      ]
     },
     "execution_count": 60,
     "metadata": {},
     "output_type": "execute_result"
    }
   ],
   "source": [
    "test_y.dot(test_y.T)"
   ]
  },
  {
   "cell_type": "code",
   "execution_count": 66,
   "metadata": {},
   "outputs": [
    {
     "data": {
      "text/plain": [
       "(5, 1)"
      ]
     },
     "execution_count": 66,
     "metadata": {},
     "output_type": "execute_result"
    }
   ],
   "source": [
    "np.zeros((5,1)).shape"
   ]
  },
  {
   "cell_type": "code",
   "execution_count": 151,
   "metadata": {},
   "outputs": [
    {
     "data": {
      "text/plain": [
       "(20,)"
      ]
     },
     "execution_count": 151,
     "metadata": {},
     "output_type": "execute_result"
    }
   ],
   "source": []
  },
  {
   "cell_type": "code",
   "execution_count": null,
   "metadata": {},
   "outputs": [],
   "source": []
  }
 ],
 "metadata": {
  "kernelspec": {
   "display_name": "Python 3",
   "language": "python",
   "name": "python3"
  },
  "language_info": {
   "codemirror_mode": {
    "name": "ipython",
    "version": 3
   },
   "file_extension": ".py",
   "mimetype": "text/x-python",
   "name": "python",
   "nbconvert_exporter": "python",
   "pygments_lexer": "ipython3",
   "version": "3.6.10"
  }
 },
 "nbformat": 4,
 "nbformat_minor": 2
}
