{
 "cells": [
  {
   "cell_type": "code",
   "execution_count": 7,
   "metadata": {},
   "outputs": [],
   "source": [
    "import pandas as pd\n",
    "import numpy as np\n",
    "from numpy.linalg import inv\n",
    "import matplotlib.pyplot as plt\n",
    "import os\n",
    "from sklearn.model_selection import train_test_split\n",
    "from sklearn.metrics import log_loss\n",
    "from sklearn.preprocessing import MinMaxScaler"
   ]
  },
  {
   "cell_type": "markdown",
   "metadata": {},
   "source": [
    "## 1. Import IRIS data"
   ]
  },
  {
   "cell_type": "code",
   "execution_count": 8,
   "metadata": {},
   "outputs": [],
   "source": [
    "raw_df = pd.read_csv('data/iris.csv')"
   ]
  },
  {
   "cell_type": "code",
   "execution_count": 9,
   "metadata": {},
   "outputs": [],
   "source": [
    "iris_df = raw_df[raw_df['variety']!='Setosa']"
   ]
  },
  {
   "cell_type": "code",
   "execution_count": 10,
   "metadata": {},
   "outputs": [],
   "source": [
    "scaler = MinMaxScaler()"
   ]
  },
  {
   "cell_type": "code",
   "execution_count": 11,
   "metadata": {},
   "outputs": [],
   "source": [
    "X = iris_df.iloc[:,:-1]\n",
    "y = iris_df.variety\n",
    "y= y.map({'Versicolor':1,'Virginica':0})"
   ]
  },
  {
   "cell_type": "code",
   "execution_count": 12,
   "metadata": {},
   "outputs": [],
   "source": [
    "X = scaler.fit_transform(X)"
   ]
  },
  {
   "cell_type": "code",
   "execution_count": 13,
   "metadata": {},
   "outputs": [],
   "source": [
    "train_X,test_X,train_y,test_y = train_test_split(X,y,test_size=0.2,shuffle=True)"
   ]
  },
  {
   "cell_type": "code",
   "execution_count": 14,
   "metadata": {},
   "outputs": [
    {
     "data": {
      "text/plain": [
       "(80, 4)"
      ]
     },
     "execution_count": 14,
     "metadata": {},
     "output_type": "execute_result"
    }
   ],
   "source": [
    "train_X.shape"
   ]
  },
  {
   "cell_type": "code",
   "execution_count": 51,
   "metadata": {},
   "outputs": [],
   "source": [
    "class LogisticRegression:\n",
    "    def __init__(self,plot=True):\n",
    "        self.plot_loss = plot\n",
    "        pass\n",
    "    def fit(self,X,y):\n",
    "        self.train_X = self.transform_X(X)\n",
    "        self.train_y = self.transform_y(y)\n",
    "        self.N,self.D = self.train_X.shape\n",
    "        self.optimize(plot=self.plot_loss)\n",
    "        \n",
    "    def optimize(self,plot,epoch=10):\n",
    "        betas = np.zeros((self.D,1))\n",
    "        losses =[]\n",
    "        for e in range(epoch):\n",
    "            # I will follow Bishop notation\n",
    "            y = self.sigmoid(np.matmul(self.train_X,betas))\n",
    "            R = np.diag(np.ravel(y*(1-y)))\n",
    "            grad = np.matmul(self.train_X.T,(y-self.train_y))\n",
    "            hessian = np.matmul(np.matmul(self.train_X.T,R),self.train_X)+0.001*np.eye(self.D)\n",
    "            betas -= np.matmul(inv(hessian),grad)\n",
    "            loss = self.cross_entropy_loss(self.train_y,self.sigmoid(np.matmul(self.train_X,betas)))\n",
    "            losses.append(loss)\n",
    "        self.coef = betas[1:]\n",
    "        self.intercept = betas[0]\n",
    "        if plot:\n",
    "            plt.title('Loss Curve')\n",
    "            plt.xlabel('Update round')\n",
    "            plt.ylabel('Loss')\n",
    "            plt.plot(losses)\n",
    "        \n",
    "    \n",
    "    def predict(self,test_X, thres=0.5):\n",
    "        test_X = np.array(test_X)\n",
    "        pred_y= self.sigmoid(np.matmul(test_X,self.coef)+self.intercept)\n",
    "        return np.where(pred_y > thres, 1, 0)\n",
    "        \n",
    "    def predict_proba(self,test_X):\n",
    "        test_X = np.array(test_X)\n",
    "        return self.sigmoid(np.matmul(test_X,self.coef)+self.intercept)\n",
    "    \n",
    "    def transform_X(self,X):\n",
    "        X = np.array(X)\n",
    "        X = np.insert(X,0,np.ones((X.shape[0])),axis=1)\n",
    "        return X\n",
    "    def transform_y(self,y):\n",
    "        y = np.array(y)\n",
    "        y = y.reshape((y.shape[0],-1))\n",
    "        return y\n",
    "    \n",
    "    def cross_entropy_loss(self,y_true,y_pred,clip_val=1e-10):\n",
    "        y_pred = np.clip(y_pred,clip_val,1-clip_val)\n",
    "        loss = np.multiply(y_true,np.log(y_pred))\n",
    "        total_loss = -np.sum(loss,axis=0)\n",
    "        return total_loss\n",
    "        \n",
    "    def sigmoid(self,x):\n",
    "        return 1 / (1 +np.exp(-x))\n",
    "        "
   ]
  },
  {
   "cell_type": "code",
   "execution_count": 54,
   "metadata": {},
   "outputs": [
    {
     "data": {
      "image/png": "[encoded data removed]",
      "text/plain": [
       "<Figure size 432x288 with 1 Axes>"
      ]
     },
     "metadata": {},
     "output_type": "display_data"
    }
   ],
   "source": [
    "LR_model = LogisticRegression()\n",
    "LR_model.fit(train_X,train_y)"
   ]
  },
  {
   "cell_type": "code",
   "execution_count": 73,
   "metadata": {},
   "outputs": [],
   "source": [
    "class performance_measure:\n",
    "    def __init__(self,predict_y,predict_y_proba,test_y):\n",
    "        self.predict_y = predict_y\n",
    "        self.predict_y_proba = predict_y_proba\n",
    "        self.test_y = test_y\n",
    "    def confusion_matrix(self):\n",
    "        self.tp = sum((self.predict_y==1)&(self.test_y==1))[0]\n",
    "        self.tn = sum((self.predict_y==0)&(self.test_y==0))[0]\n",
    "        self.fn = sum((self.predict_y==0)&(self.test_y==1))[0]\n",
    "        self.fp = sum((self.predict_y==1)&(self.test_y==0))[0]\n",
    "    def accuracy(self):\n",
    "        return (self.tp+self.tn)/(len(self.test_y))\n",
    "    def sensitivity(self,eps=0.001):\n",
    "        return (self.tp)/(self.tp+self.fn)\n",
    "    def specificity(self):\n",
    "        return (self.tn)/(self.tn+self.fp)\n",
    "    def roc_auc(self):\n",
    "        threshold = [0.02 * i for i in range(50)]\n",
    "        "
   ]
  },
  {
   "cell_type": "code",
   "execution_count": 48,
   "metadata": {},
   "outputs": [],
   "source": [
    "class kfold:\n",
    "    def __init__(self,K,X,y):\n",
    "        self.K = K\n",
    "        self.X = X\n",
    "        self.y = y\n",
    "        self.shuffle()\n",
    "        self.total_samples =len(X)\n",
    "        self.split()\n",
    "        \n",
    "    def split(self):\n",
    "        self.split_data_X = np.array_split(self.X,self.K)\n",
    "        self.split_data_y = np.array_split(self.y,self.K)\n",
    "    def shuffle(self):\n",
    "        s = np.arange(self.X.shape[0])\n",
    "        self.X = self.X[s]\n",
    "        self.y = self.y[s]\n",
    "        \n",
    "    def run(self,model):\n",
    "        for i in range(self.K):\n",
    "            total_data_X = self.split_data_X.copy()\n",
    "            total_data_y = self.split_data_y.copy()\n",
    "            \n",
    "            test_X = total_data_X[i].copy()\n",
    "            test_y = total_data_y[i].copy()\n",
    "            del total_data_X[i],total_data_y[i]\n",
    "            \n",
    "            train_X = np.concatenate(total_data_X[:])\n",
    "            train_y = np.concatenate(total_data_y[:])\n",
    "            model.fit(train_X,train_y)\n",
    "            \n",
    "            predict_y_proba = model.predict_proba(test_X)\n",
    "            predict_y = model.predict(test_X)\n",
    "            \n",
    "            \n",
    "            \n",
    "            \n",
    "    \n",
    "        \n",
    "        \n",
    "        \n",
    "        \n",
    "        \n",
    "        \n",
    "        "
   ]
  },
  {
   "cell_type": "code",
   "execution_count": 49,
   "metadata": {},
   "outputs": [],
   "source": [
    "fold = kfold(10,X,y)"
   ]
  },
  {
   "cell_type": "code",
   "execution_count": 66,
   "metadata": {},
   "outputs": [],
   "source": [
    "pred = np.array([[1],[0],[0]])"
   ]
  },
  {
   "cell_type": "code",
   "execution_count": 67,
   "metadata": {},
   "outputs": [],
   "source": [
    "real = np.array([[0],[1],[1]])"
   ]
  },
  {
   "cell_type": "code",
   "execution_count": 72,
   "metadata": {},
   "outputs": [
    {
     "data": {
      "text/plain": [
       "2"
      ]
     },
     "execution_count": 72,
     "metadata": {},
     "output_type": "execute_result"
    }
   ],
   "source": [
    "sum((pred==0)&(real==1))[0]"
   ]
  },
  {
   "cell_type": "code",
   "execution_count": 65,
   "metadata": {},
   "outputs": [
    {
     "data": {
      "text/plain": [
       "0"
      ]
     },
     "execution_count": 65,
     "metadata": {},
     "output_type": "execute_result"
    }
   ],
   "source": [
    "np.sum(pred*real)"
   ]
  },
  {
   "cell_type": "code",
   "execution_count": 50,
   "metadata": {},
   "outputs": [
    {
     "name": "stdout",
     "output_type": "stream",
     "text": [
      "[[0.99998677]\n",
      " [0.99994572]\n",
      " [0.99871028]\n",
      " [0.99995271]\n",
      " [0.9984858 ]\n",
      " [0.99988662]\n",
      " [0.99858801]\n",
      " [1.        ]\n",
      " [0.99998355]\n",
      " [0.99998314]]\n",
      "[[0.99999984]\n",
      " [0.99993154]\n",
      " [0.99999965]\n",
      " [0.9988932 ]\n",
      " [0.99999996]\n",
      " [0.9999943 ]\n",
      " [0.99827376]\n",
      " [0.99999996]\n",
      " [0.88893204]\n",
      " [0.99999974]]\n",
      "[[0.15339258]\n",
      " [0.99998909]\n",
      " [0.63124841]\n",
      " [0.99966128]\n",
      " [0.99995508]\n",
      " [0.99973229]\n",
      " [0.99180721]\n",
      " [0.23975774]\n",
      " [0.98999444]\n",
      " [0.99999999]]\n",
      "[[1.00000000e+00]\n",
      " [1.00000000e+00]\n",
      " [1.00000000e+00]\n",
      " [9.94213416e-04]\n",
      " [9.99911767e-01]\n",
      " [9.99999928e-01]\n",
      " [9.99999900e-01]\n",
      " [9.99999862e-01]\n",
      " [1.00000000e+00]\n",
      " [1.00000000e+00]]\n",
      "[[0.99995819]\n",
      " [0.99983352]\n",
      " [0.99999953]\n",
      " [1.        ]\n",
      " [0.99998411]\n",
      " [0.99999973]\n",
      " [0.99999671]\n",
      " [0.99999754]\n",
      " [1.        ]\n",
      " [0.9999975 ]]\n",
      "[[1.80158248e-10]\n",
      " [6.54859607e-04]\n",
      " [3.08275693e-07]\n",
      " [2.33683214e-04]\n",
      " [5.75025605e-08]\n",
      " [7.35826660e-10]\n",
      " [3.98354026e-01]\n",
      " [1.10037977e-06]\n",
      " [4.71285878e-06]\n",
      " [1.56079827e-09]]\n",
      "[[1.12220365e-02]\n",
      " [4.51528692e-04]\n",
      " [3.61381961e-05]\n",
      " [6.61320353e-05]\n",
      " [1.95198919e-07]\n",
      " [8.24009268e-06]\n",
      " [3.14477708e-03]\n",
      " [1.34933720e-07]\n",
      " [3.56026223e-12]\n",
      " [1.20432773e-01]]\n",
      "[[1.79432131e-05]\n",
      " [2.81161439e-03]\n",
      " [1.89221837e-07]\n",
      " [1.77431281e-01]\n",
      " [2.14309559e-04]\n",
      " [2.14373421e-03]\n",
      " [3.88855319e-01]\n",
      " [3.36014211e-01]\n",
      " [1.72136557e-05]\n",
      " [6.24128253e-02]]\n",
      "[[1.55449866e-12]\n",
      " [1.24432235e-07]\n",
      " [1.84085257e-17]\n",
      " [9.99828953e-01]\n",
      " [9.76202066e-01]\n",
      " [8.89245711e-21]\n",
      " [4.14667536e-17]\n",
      " [4.45877947e-04]\n",
      " [3.04889437e-01]\n",
      " [5.35857750e-11]]\n",
      "[[7.11329331e-08]\n",
      " [6.89915347e-05]\n",
      " [4.56276780e-04]\n",
      " [6.62814606e-08]\n",
      " [1.75988599e-08]\n",
      " [8.79133986e-06]\n",
      " [1.02268957e-03]\n",
      " [1.17460966e-03]\n",
      " [5.82339080e-06]\n",
      " [2.45041111e-02]]\n"
     ]
    },
    {
     "data": {
      "image/png": "[encoded data removed]",
      "text/plain": [
       "<Figure size 432x288 with 1 Axes>"
      ]
     },
     "metadata": {},
     "output_type": "display_data"
    }
   ],
   "source": [
    "fold.run(LR_model)"
   ]
  },
  {
   "cell_type": "code",
   "execution_count": 21,
   "metadata": {},
   "outputs": [
    {
     "data": {
      "text/plain": [
       "100"
      ]
     },
     "execution_count": 21,
     "metadata": {},
     "output_type": "execute_result"
    }
   ],
   "source": [
    "len(X)"
   ]
  },
  {
   "cell_type": "code",
   "execution_count": 24,
   "metadata": {},
   "outputs": [],
   "source": [
    "split_data = np.array_split(X,5)"
   ]
  },
  {
   "cell_type": "code",
   "execution_count": 28,
   "metadata": {},
   "outputs": [],
   "source": [
    "single = np.concatenate(split_data[0:4])"
   ]
  },
  {
   "cell_type": "code",
   "execution_count": 29,
   "metadata": {},
   "outputs": [
    {
     "data": {
      "text/plain": [
       "array([[0.7       , 0.66666667, 0.43589744, 0.26666667],\n",
       "       [0.5       , 0.66666667, 0.38461538, 0.33333333],\n",
       "       [0.66666667, 0.61111111, 0.48717949, 0.33333333],\n",
       "       [0.2       , 0.16666667, 0.25641026, 0.2       ],\n",
       "       [0.53333333, 0.44444444, 0.41025641, 0.33333333],\n",
       "       [0.26666667, 0.44444444, 0.38461538, 0.2       ],\n",
       "       [0.46666667, 0.72222222, 0.43589744, 0.4       ],\n",
       "       [0.        , 0.22222222, 0.07692308, 0.        ],\n",
       "       [0.56666667, 0.5       , 0.41025641, 0.2       ],\n",
       "       [0.1       , 0.38888889, 0.23076923, 0.26666667],\n",
       "       [0.03333333, 0.        , 0.12820513, 0.        ],\n",
       "       [0.33333333, 0.55555556, 0.30769231, 0.33333333],\n",
       "       [0.36666667, 0.11111111, 0.25641026, 0.        ],\n",
       "       [0.4       , 0.5       , 0.43589744, 0.26666667],\n",
       "       [0.23333333, 0.5       , 0.15384615, 0.2       ],\n",
       "       [0.6       , 0.61111111, 0.35897436, 0.26666667],\n",
       "       [0.23333333, 0.55555556, 0.38461538, 0.33333333],\n",
       "       [0.3       , 0.38888889, 0.28205128, 0.        ],\n",
       "       [0.43333333, 0.11111111, 0.38461538, 0.33333333],\n",
       "       [0.23333333, 0.27777778, 0.23076923, 0.06666667],\n",
       "       [0.33333333, 0.66666667, 0.46153846, 0.53333333],\n",
       "       [0.4       , 0.44444444, 0.25641026, 0.2       ],\n",
       "       [0.46666667, 0.27777778, 0.48717949, 0.33333333],\n",
       "       [0.4       , 0.44444444, 0.43589744, 0.13333333],\n",
       "       [0.5       , 0.5       , 0.33333333, 0.2       ],\n",
       "       [0.56666667, 0.55555556, 0.35897436, 0.26666667],\n",
       "       [0.63333333, 0.44444444, 0.46153846, 0.26666667],\n",
       "       [0.6       , 0.55555556, 0.51282051, 0.46666667],\n",
       "       [0.36666667, 0.5       , 0.38461538, 0.33333333],\n",
       "       [0.26666667, 0.33333333, 0.12820513, 0.        ],\n",
       "       [0.2       , 0.22222222, 0.20512821, 0.06666667],\n",
       "       [0.2       , 0.22222222, 0.17948718, 0.        ],\n",
       "       [0.3       , 0.38888889, 0.23076923, 0.13333333],\n",
       "       [0.36666667, 0.38888889, 0.53846154, 0.4       ],\n",
       "       [0.16666667, 0.55555556, 0.38461538, 0.33333333],\n",
       "       [0.36666667, 0.77777778, 0.38461538, 0.4       ],\n",
       "       [0.6       , 0.61111111, 0.43589744, 0.33333333],\n",
       "       [0.46666667, 0.16666667, 0.35897436, 0.2       ],\n",
       "       [0.23333333, 0.55555556, 0.28205128, 0.2       ],\n",
       "       [0.2       , 0.27777778, 0.25641026, 0.2       ],\n",
       "       [0.2       , 0.33333333, 0.35897436, 0.13333333],\n",
       "       [0.4       , 0.55555556, 0.41025641, 0.26666667],\n",
       "       [0.3       , 0.33333333, 0.25641026, 0.13333333],\n",
       "       [0.03333333, 0.16666667, 0.07692308, 0.        ],\n",
       "       [0.23333333, 0.38888889, 0.30769231, 0.2       ],\n",
       "       [0.26666667, 0.55555556, 0.30769231, 0.13333333],\n",
       "       [0.26666667, 0.5       , 0.30769231, 0.2       ],\n",
       "       [0.43333333, 0.5       , 0.33333333, 0.2       ],\n",
       "       [0.06666667, 0.27777778, 0.        , 0.06666667],\n",
       "       [0.26666667, 0.44444444, 0.28205128, 0.2       ],\n",
       "       [0.46666667, 0.72222222, 0.76923077, 1.        ],\n",
       "       [0.3       , 0.38888889, 0.53846154, 0.6       ],\n",
       "       [0.73333333, 0.55555556, 0.74358974, 0.73333333],\n",
       "       [0.46666667, 0.5       , 0.66666667, 0.53333333],\n",
       "       [0.53333333, 0.55555556, 0.71794872, 0.8       ],\n",
       "       [0.9       , 0.55555556, 0.92307692, 0.73333333],\n",
       "       [0.        , 0.27777778, 0.38461538, 0.46666667],\n",
       "       [0.8       , 0.5       , 0.84615385, 0.53333333],\n",
       "       [0.6       , 0.27777778, 0.71794872, 0.53333333],\n",
       "       [0.76666667, 0.88888889, 0.79487179, 1.        ],\n",
       "       [0.53333333, 0.66666667, 0.53846154, 0.66666667],\n",
       "       [0.5       , 0.38888889, 0.58974359, 0.6       ],\n",
       "       [0.63333333, 0.55555556, 0.64102564, 0.73333333],\n",
       "       [0.26666667, 0.27777778, 0.51282051, 0.66666667],\n",
       "       [0.3       , 0.44444444, 0.53846154, 0.93333333],\n",
       "       [0.5       , 0.66666667, 0.58974359, 0.86666667],\n",
       "       [0.53333333, 0.55555556, 0.64102564, 0.53333333],\n",
       "       [0.93333333, 1.        , 0.94871795, 0.8       ],\n",
       "       [0.93333333, 0.33333333, 1.        , 0.86666667],\n",
       "       [0.36666667, 0.11111111, 0.51282051, 0.33333333],\n",
       "       [0.66666667, 0.66666667, 0.69230769, 0.86666667],\n",
       "       [0.23333333, 0.44444444, 0.48717949, 0.66666667],\n",
       "       [0.93333333, 0.44444444, 0.94871795, 0.66666667],\n",
       "       [0.46666667, 0.38888889, 0.48717949, 0.53333333],\n",
       "       [0.6       , 0.72222222, 0.69230769, 0.73333333],\n",
       "       [0.76666667, 0.66666667, 0.76923077, 0.53333333],\n",
       "       [0.43333333, 0.44444444, 0.46153846, 0.53333333],\n",
       "       [0.4       , 0.55555556, 0.48717949, 0.53333333],\n",
       "       [0.5       , 0.44444444, 0.66666667, 0.73333333],\n",
       "       [0.76666667, 0.55555556, 0.71794872, 0.4       ]])"
      ]
     },
     "execution_count": 29,
     "metadata": {},
     "output_type": "execute_result"
    }
   ],
   "source": [
    "single"
   ]
  },
  {
   "cell_type": "code",
   "execution_count": null,
   "metadata": {},
   "outputs": [],
   "source": []
  }
 ],
 "metadata": {
  "kernelspec": {
   "display_name": "Python 3",
   "language": "python",
   "name": "python3"
  },
  "language_info": {
   "codemirror_mode": {
    "name": "ipython",
    "version": 3
   },
   "file_extension": ".py",
   "mimetype": "text/x-python",
   "name": "python",
   "nbconvert_exporter": "python",
   "pygments_lexer": "ipython3",
   "version": "3.6.10"
  }
 },
 "nbformat": 4,
 "nbformat_minor": 2
}
